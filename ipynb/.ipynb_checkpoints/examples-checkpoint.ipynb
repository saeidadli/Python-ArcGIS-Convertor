{
 "cells": [
  {
   "cell_type": "code",
   "execution_count": 3,
   "metadata": {
    "collapsed": false
   },
   "outputs": [],
   "source": [
    "import sys\n",
    "from pathlib import Path\n",
    "\n",
    "import pandas as pd\n",
    "import geopandas as gpd\n",
    "\n",
    "DIR = Path('..')\n",
    "sys.path.append(str(DIR))\n",
    "\n",
    "import arcpyconvertor as apc\n",
    "\n",
    "DATA_DIR = DIR/'data/'\n",
    "\n",
    "%load_ext autoreload\n",
    "%autoreload 2"
   ]
  },
  {
   "cell_type": "markdown",
   "metadata": {
    "collapsed": true
   },
   "source": [
    "# Playground"
   ]
  },
  {
   "cell_type": "code",
   "execution_count": 4,
   "metadata": {
    "collapsed": false
   },
   "outputs": [
    {
     "data": {
      "text/html": [
       "<div>\n",
       "<style>\n",
       "    .dataframe thead tr:only-child th {\n",
       "        text-align: right;\n",
       "    }\n",
       "\n",
       "    .dataframe thead th {\n",
       "        text-align: left;\n",
       "    }\n",
       "\n",
       "    .dataframe tbody tr th {\n",
       "        vertical-align: top;\n",
       "    }\n",
       "</style>\n",
       "<table border=\"1\" class=\"dataframe\">\n",
       "  <thead>\n",
       "    <tr style=\"text-align: right;\">\n",
       "      <th></th>\n",
       "      <th>geometry</th>\n",
       "      <th>stop_code</th>\n",
       "      <th>stop_id</th>\n",
       "      <th>stop_lat</th>\n",
       "      <th>stop_lon</th>\n",
       "      <th>stop_name</th>\n",
       "    </tr>\n",
       "  </thead>\n",
       "  <tbody>\n",
       "    <tr>\n",
       "      <th>0</th>\n",
       "      <td>POINT (1757291.6532 5919487.4322)</td>\n",
       "      <td>7149</td>\n",
       "      <td>0149</td>\n",
       "      <td>-36.857455</td>\n",
       "      <td>174.76443</td>\n",
       "      <td>83 Symonds St</td>\n",
       "    </tr>\n",
       "    <tr>\n",
       "      <th>1</th>\n",
       "      <td>POINT (1757597.0082 5919795.0909)</td>\n",
       "      <td>7148</td>\n",
       "      <td>0160</td>\n",
       "      <td>-36.854632</td>\n",
       "      <td>174.76779</td>\n",
       "      <td>36 Symonds St</td>\n",
       "    </tr>\n",
       "    <tr>\n",
       "      <th>2</th>\n",
       "      <td>POINT (1757584.2243 5919779.013)</td>\n",
       "      <td>7150</td>\n",
       "      <td>0161</td>\n",
       "      <td>-36.854779</td>\n",
       "      <td>174.76765</td>\n",
       "      <td>38 Symonds St</td>\n",
       "    </tr>\n",
       "    <tr>\n",
       "      <th>3</th>\n",
       "      <td>POINT (1757567.8373 5919761.004)</td>\n",
       "      <td>7152</td>\n",
       "      <td>0162</td>\n",
       "      <td>-36.854944</td>\n",
       "      <td>174.76747</td>\n",
       "      <td>44 Symonds St</td>\n",
       "    </tr>\n",
       "    <tr>\n",
       "      <th>4</th>\n",
       "      <td>POINT (1757386.7252 5919564.6951)</td>\n",
       "      <td>7154</td>\n",
       "      <td>0163</td>\n",
       "      <td>-36.856743</td>\n",
       "      <td>174.76548</td>\n",
       "      <td>86 Symonds St</td>\n",
       "    </tr>\n",
       "    <tr>\n",
       "      <th>5</th>\n",
       "      <td>POINT (1757092.1874 5919649.0446)</td>\n",
       "      <td>7061</td>\n",
       "      <td>5100</td>\n",
       "      <td>-36.856032</td>\n",
       "      <td>174.76216</td>\n",
       "      <td>385 Queen St</td>\n",
       "    </tr>\n",
       "    <tr>\n",
       "      <th>6</th>\n",
       "      <td>POINT (1757093.2703 5919611.0683)</td>\n",
       "      <td>7062</td>\n",
       "      <td>5113</td>\n",
       "      <td>-36.856374</td>\n",
       "      <td>174.76218</td>\n",
       "      <td>490 Queen St</td>\n",
       "    </tr>\n",
       "    <tr>\n",
       "      <th>7</th>\n",
       "      <td>POINT (1757140.1997 5919206.2231)</td>\n",
       "      <td>7164</td>\n",
       "      <td>5115</td>\n",
       "      <td>-36.860014</td>\n",
       "      <td>174.76279</td>\n",
       "      <td>Symonds St Overbridge..</td>\n",
       "    </tr>\n",
       "    <tr>\n",
       "      <th>8</th>\n",
       "      <td>POINT (1757153.2011 5919234.1728)</td>\n",
       "      <td>7162</td>\n",
       "      <td>5116</td>\n",
       "      <td>-36.859760</td>\n",
       "      <td>174.76293</td>\n",
       "      <td>Symonds St Overbridge</td>\n",
       "    </tr>\n",
       "    <tr>\n",
       "      <th>9</th>\n",
       "      <td>POINT (1757169.9018 5919269.2681)</td>\n",
       "      <td>7160</td>\n",
       "      <td>5117</td>\n",
       "      <td>-36.859441</td>\n",
       "      <td>174.76311</td>\n",
       "      <td>Symonds St Overbridge.</td>\n",
       "    </tr>\n",
       "    <tr>\n",
       "      <th>10</th>\n",
       "      <td>POINT (1757186.5821 5919303.254)</td>\n",
       "      <td>7158</td>\n",
       "      <td>5118</td>\n",
       "      <td>-36.859132</td>\n",
       "      <td>174.76329</td>\n",
       "      <td>Symonds St Overbridge</td>\n",
       "    </tr>\n",
       "    <tr>\n",
       "      <th>11</th>\n",
       "      <td>POINT (1757258.4941 5919430.4444)</td>\n",
       "      <td>7156</td>\n",
       "      <td>5119</td>\n",
       "      <td>-36.857974</td>\n",
       "      <td>174.76407</td>\n",
       "      <td>Symonds St Cemetery</td>\n",
       "    </tr>\n",
       "    <tr>\n",
       "      <th>12</th>\n",
       "      <td>POINT (1757421.3431 5919748.7314)</td>\n",
       "      <td>7128</td>\n",
       "      <td>5138</td>\n",
       "      <td>-36.855079</td>\n",
       "      <td>174.76583</td>\n",
       "      <td>84 Wakefield St</td>\n",
       "    </tr>\n",
       "    <tr>\n",
       "      <th>13</th>\n",
       "      <td>POINT (1757707.736 5919080.3036)</td>\n",
       "      <td>7227</td>\n",
       "      <td>5428</td>\n",
       "      <td>-36.861054</td>\n",
       "      <td>174.76918</td>\n",
       "      <td>Park Road Opp Auckland Hospital</td>\n",
       "    </tr>\n",
       "    <tr>\n",
       "      <th>14</th>\n",
       "      <td>POINT (1757580.8062 5919257.1207)</td>\n",
       "      <td>7284</td>\n",
       "      <td>6450</td>\n",
       "      <td>-36.859482</td>\n",
       "      <td>174.76772</td>\n",
       "      <td>Grafton Rd Opposite Auckland Hospital Gate4</td>\n",
       "    </tr>\n",
       "    <tr>\n",
       "      <th>15</th>\n",
       "      <td>POINT (1757571.3304 5919226.9976)</td>\n",
       "      <td>7282</td>\n",
       "      <td>6451</td>\n",
       "      <td>-36.859755</td>\n",
       "      <td>174.76762</td>\n",
       "      <td>Grafton Rd Auckland Hospital Gate4</td>\n",
       "    </tr>\n",
       "    <tr>\n",
       "      <th>16</th>\n",
       "      <td>POINT (1757309.3999 5919482.5539)</td>\n",
       "      <td>7159</td>\n",
       "      <td>6970</td>\n",
       "      <td>-36.857496</td>\n",
       "      <td>174.76463</td>\n",
       "      <td>110 Symonds St</td>\n",
       "    </tr>\n",
       "    <tr>\n",
       "      <th>17</th>\n",
       "      <td>POINT (1757193.6871 5919398.2355)</td>\n",
       "      <td>1069</td>\n",
       "      <td>7143</td>\n",
       "      <td>-36.858275</td>\n",
       "      <td>174.76335</td>\n",
       "      <td>Karangahape Rd Near Symonds St</td>\n",
       "    </tr>\n",
       "    <tr>\n",
       "      <th>18</th>\n",
       "      <td>POINT (1757172.2842 5919398.2977)</td>\n",
       "      <td>1086</td>\n",
       "      <td>7145</td>\n",
       "      <td>-36.858278</td>\n",
       "      <td>174.76311</td>\n",
       "      <td>Karangahape Rd By Cemetery</td>\n",
       "    </tr>\n",
       "  </tbody>\n",
       "</table>\n",
       "</div>"
      ],
      "text/plain": [
       "                             geometry stop_code stop_id   stop_lat   stop_lon  \\\n",
       "0   POINT (1757291.6532 5919487.4322)      7149    0149 -36.857455  174.76443   \n",
       "1   POINT (1757597.0082 5919795.0909)      7148    0160 -36.854632  174.76779   \n",
       "2    POINT (1757584.2243 5919779.013)      7150    0161 -36.854779  174.76765   \n",
       "3    POINT (1757567.8373 5919761.004)      7152    0162 -36.854944  174.76747   \n",
       "4   POINT (1757386.7252 5919564.6951)      7154    0163 -36.856743  174.76548   \n",
       "5   POINT (1757092.1874 5919649.0446)      7061    5100 -36.856032  174.76216   \n",
       "6   POINT (1757093.2703 5919611.0683)      7062    5113 -36.856374  174.76218   \n",
       "7   POINT (1757140.1997 5919206.2231)      7164    5115 -36.860014  174.76279   \n",
       "8   POINT (1757153.2011 5919234.1728)      7162    5116 -36.859760  174.76293   \n",
       "9   POINT (1757169.9018 5919269.2681)      7160    5117 -36.859441  174.76311   \n",
       "10   POINT (1757186.5821 5919303.254)      7158    5118 -36.859132  174.76329   \n",
       "11  POINT (1757258.4941 5919430.4444)      7156    5119 -36.857974  174.76407   \n",
       "12  POINT (1757421.3431 5919748.7314)      7128    5138 -36.855079  174.76583   \n",
       "13   POINT (1757707.736 5919080.3036)      7227    5428 -36.861054  174.76918   \n",
       "14  POINT (1757580.8062 5919257.1207)      7284    6450 -36.859482  174.76772   \n",
       "15  POINT (1757571.3304 5919226.9976)      7282    6451 -36.859755  174.76762   \n",
       "16  POINT (1757309.3999 5919482.5539)      7159    6970 -36.857496  174.76463   \n",
       "17  POINT (1757193.6871 5919398.2355)      1069    7143 -36.858275  174.76335   \n",
       "18  POINT (1757172.2842 5919398.2977)      1086    7145 -36.858278  174.76311   \n",
       "\n",
       "                                      stop_name  \n",
       "0                                 83 Symonds St  \n",
       "1                                 36 Symonds St  \n",
       "2                                 38 Symonds St  \n",
       "3                                 44 Symonds St  \n",
       "4                                 86 Symonds St  \n",
       "5                                  385 Queen St  \n",
       "6                                  490 Queen St  \n",
       "7                       Symonds St Overbridge..  \n",
       "8                         Symonds St Overbridge  \n",
       "9                        Symonds St Overbridge.  \n",
       "10                        Symonds St Overbridge  \n",
       "11                          Symonds St Cemetery  \n",
       "12                              84 Wakefield St  \n",
       "13              Park Road Opp Auckland Hospital  \n",
       "14  Grafton Rd Opposite Auckland Hospital Gate4  \n",
       "15           Grafton Rd Auckland Hospital Gate4  \n",
       "16                               110 Symonds St  \n",
       "17               Karangahape Rd Near Symonds St  \n",
       "18                   Karangahape Rd By Cemetery  "
      ]
     },
     "execution_count": 4,
     "metadata": {},
     "output_type": "execute_result"
    }
   ],
   "source": [
    "fc = DATA_DIR/'ArcGIS.gdb/Map/stops'\n",
    "gdf = apc.fc_to_gdf(str(fc))\n",
    "gdf"
   ]
  },
  {
   "cell_type": "code",
   "execution_count": 3,
   "metadata": {
    "collapsed": false
   },
   "outputs": [
    {
     "data": {
      "text/plain": [
       "<Result '..\\\\data\\\\ArcGIS.gdb\\\\Map\\\\stops_copy01'>"
      ]
     },
     "execution_count": 3,
     "metadata": {},
     "output_type": "execute_result"
    }
   ],
   "source": [
    "fc = DATA_DIR/'ArcGIS.gdb/Map/stops_copy01'\n",
    "apc.gdf_to_fc(gdf, str(fc))"
   ]
  },
  {
   "cell_type": "code",
   "execution_count": 4,
   "metadata": {
    "collapsed": false
   },
   "outputs": [
    {
     "data": {
      "text/html": [
       "<div>\n",
       "<style>\n",
       "    .dataframe thead tr:only-child th {\n",
       "        text-align: right;\n",
       "    }\n",
       "\n",
       "    .dataframe thead th {\n",
       "        text-align: left;\n",
       "    }\n",
       "\n",
       "    .dataframe tbody tr th {\n",
       "        vertical-align: top;\n",
       "    }\n",
       "</style>\n",
       "<table border=\"1\" class=\"dataframe\">\n",
       "  <thead>\n",
       "    <tr style=\"text-align: right;\">\n",
       "      <th></th>\n",
       "      <th>Field1</th>\n",
       "      <th>d_stop</th>\n",
       "      <th>walk_to_stop_sec</th>\n",
       "      <th>o_type</th>\n",
       "      <th>arrival_time_sec</th>\n",
       "      <th>arrival_time</th>\n",
       "      <th>o_tt</th>\n",
       "    </tr>\n",
       "  </thead>\n",
       "  <tbody>\n",
       "    <tr>\n",
       "      <th>0</th>\n",
       "      <td>112</td>\n",
       "      <td>120</td>\n",
       "      <td>238.163369</td>\n",
       "      <td>Start Location</td>\n",
       "      <td>29038.163369</td>\n",
       "      <td>1958-03-08T00:00:00</td>\n",
       "      <td>0</td>\n",
       "    </tr>\n",
       "    <tr>\n",
       "      <th>1</th>\n",
       "      <td>113</td>\n",
       "      <td>121</td>\n",
       "      <td>180.047950</td>\n",
       "      <td>Start Location</td>\n",
       "      <td>28980.047950</td>\n",
       "      <td>2000-03-08T00:00:00</td>\n",
       "      <td>0</td>\n",
       "    </tr>\n",
       "    <tr>\n",
       "      <th>2</th>\n",
       "      <td>4727</td>\n",
       "      <td>5268</td>\n",
       "      <td>72.134358</td>\n",
       "      <td>Start Location</td>\n",
       "      <td>28872.134358</td>\n",
       "      <td>2012-01-08T00:00:00</td>\n",
       "      <td>0</td>\n",
       "    </tr>\n",
       "    <tr>\n",
       "      <th>3</th>\n",
       "      <td>5248</td>\n",
       "      <td>6179</td>\n",
       "      <td>103.251183</td>\n",
       "      <td>Start Location</td>\n",
       "      <td>28903.251183</td>\n",
       "      <td>1943-01-08T00:00:00</td>\n",
       "      <td>0</td>\n",
       "    </tr>\n",
       "    <tr>\n",
       "      <th>4</th>\n",
       "      <td>5257</td>\n",
       "      <td>6193</td>\n",
       "      <td>292.487770</td>\n",
       "      <td>Start Location</td>\n",
       "      <td>29092.487770</td>\n",
       "      <td>1952-04-08T00:00:00</td>\n",
       "      <td>0</td>\n",
       "    </tr>\n",
       "    <tr>\n",
       "      <th>5</th>\n",
       "      <td>5988</td>\n",
       "      <td>7317</td>\n",
       "      <td>254.949856</td>\n",
       "      <td>Start Location</td>\n",
       "      <td>29054.949856</td>\n",
       "      <td>2014-04-08T00:00:00</td>\n",
       "      <td>0</td>\n",
       "    </tr>\n",
       "    <tr>\n",
       "      <th>6</th>\n",
       "      <td>5989</td>\n",
       "      <td>7318</td>\n",
       "      <td>178.168129</td>\n",
       "      <td>Start Location</td>\n",
       "      <td>28978.168129</td>\n",
       "      <td>1958-02-08T00:00:00</td>\n",
       "      <td>0</td>\n",
       "    </tr>\n",
       "  </tbody>\n",
       "</table>\n",
       "</div>"
      ],
      "text/plain": [
       "   Field1  d_stop  walk_to_stop_sec          o_type  arrival_time_sec  \\\n",
       "0     112     120        238.163369  Start Location      29038.163369   \n",
       "1     113     121        180.047950  Start Location      28980.047950   \n",
       "2    4727    5268         72.134358  Start Location      28872.134358   \n",
       "3    5248    6179        103.251183  Start Location      28903.251183   \n",
       "4    5257    6193        292.487770  Start Location      29092.487770   \n",
       "5    5988    7317        254.949856  Start Location      29054.949856   \n",
       "6    5989    7318        178.168129  Start Location      28978.168129   \n",
       "\n",
       "          arrival_time  o_tt  \n",
       "0  1958-03-08T00:00:00     0  \n",
       "1  2000-03-08T00:00:00     0  \n",
       "2  2012-01-08T00:00:00     0  \n",
       "3  1943-01-08T00:00:00     0  \n",
       "4  1952-04-08T00:00:00     0  \n",
       "5  2014-04-08T00:00:00     0  \n",
       "6  1958-02-08T00:00:00     0  "
      ]
     },
     "execution_count": 4,
     "metadata": {},
     "output_type": "execute_result"
    }
   ],
   "source": [
    "tbl = DATA_DIR/'ArcGIS.gdb/ar_df'\n",
    "df = apc.tbl_to_df(str(tbl))\n",
    "df"
   ]
  },
  {
   "cell_type": "code",
   "execution_count": 24,
   "metadata": {
    "collapsed": false
   },
   "outputs": [
    {
     "data": {
      "text/plain": [
       "'..\\\\data\\\\ArcGIS.gdb\\\\ar_df_copy'"
      ]
     },
     "execution_count": 24,
     "metadata": {},
     "output_type": "execute_result"
    }
   ],
   "source": [
    "tbl = DATA_DIR/'ArcGIS.gdb/ar_df_copy'\n",
    "apc.df_to_tbl(df, str(tbl))"
   ]
  },
  {
   "cell_type": "code",
   "execution_count": 27,
   "metadata": {
    "collapsed": false
   },
   "outputs": [
    {
     "data": {
      "text/plain": [
       "'..\\\\data\\\\stops.geojson'"
      ]
     },
     "execution_count": 27,
     "metadata": {},
     "output_type": "execute_result"
    }
   ],
   "source": [
    "fc = DATA_DIR/'ArcGIS.gdb/Map/stops'\n",
    "geojson = DATA_DIR/'stops.geojson'\n",
    "apc.fc_to_geojson(str(fc), str(geojson))"
   ]
  },
  {
   "cell_type": "code",
   "execution_count": 30,
   "metadata": {
    "collapsed": false
   },
   "outputs": [
    {
     "data": {
      "text/plain": [
       "'..\\\\data\\\\ArcGIS.gdb\\\\Map\\\\stops_copy02'"
      ]
     },
     "execution_count": 30,
     "metadata": {},
     "output_type": "execute_result"
    }
   ],
   "source": [
    "geojson = DATA_DIR/'stops.geojson'\n",
    "fc = DATA_DIR/'ArcGIS.gdb/Map/stops_copy02'\n",
    "apc.geojson_to_fc(str(geojson), str(fc))"
   ]
  },
  {
   "cell_type": "code",
   "execution_count": null,
   "metadata": {
    "collapsed": true
   },
   "outputs": [],
   "source": []
  }
 ],
 "metadata": {
  "kernelspec": {
   "display_name": "Python 3",
   "language": "python",
   "name": "python3"
  },
  "language_info": {
   "codemirror_mode": {
    "name": "ipython",
    "version": 3
   },
   "file_extension": ".py",
   "mimetype": "text/x-python",
   "name": "python",
   "nbconvert_exporter": "python",
   "pygments_lexer": "ipython3",
   "version": "3.5.3"
  }
 },
 "nbformat": 4,
 "nbformat_minor": 2
}
